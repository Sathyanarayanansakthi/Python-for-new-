{
  "nbformat": 4,
  "nbformat_minor": 0,
  "metadata": {
    "colab": {
      "provenance": []
    },
    "kernelspec": {
      "name": "python3",
      "display_name": "Python 3"
    },
    "language_info": {
      "name": "python"
    }
  },
  "cells": [
    {
      "cell_type": "code",
      "execution_count": null,
      "metadata": {
        "id": "oAqICVgY9J-i"
      },
      "outputs": [],
      "source": [
        "# Defining a custom exception class\n",
        "class InsufficientFundsError(Exception):\n",
        "    \"\"\"Exception raised for errors in the withdrawal process due to insufficient funds.\"\"\"\n",
        "\n",
        "    def __init__(self, balance, amount):\n",
        "        self.balance = balance\n",
        "        self.amount = amount\n",
        "        self.message = f\"Cannot withdraw {self.amount}. Available balance is {self.balance}.\"\n",
        "        super().__init__(self.message)\n"
      ]
    },
    {
      "cell_type": "code",
      "source": [
        "class BankAccount:\n",
        "    def __init__(self, balance=0):\n",
        "        self.balance = balance\n",
        "\n",
        "    def withdraw(self, amount):\n",
        "        if amount > self.balance:\n",
        "            # Raise the custom exception\n",
        "            raise InsufficientFundsError(self.balance, amount)\n",
        "        else:\n",
        "            self.balance -= amount\n",
        "            return self.balance\n",
        "\n",
        "# Example Usage\n",
        "try:\n",
        "    account = BankAccount(100)  # Initial balance is 100\n",
        "    print(\"Current Balance:\", account.balance)\n",
        "    print(\"Withdrawing 150...\")\n",
        "    account.withdraw(150)  # This will raise the custom exception\n",
        "except InsufficientFundsError as e:\n",
        "    print(e)  # Catching the custom exception and printing the message\n"
      ],
      "metadata": {
        "id": "9sSZxhk39RwT"
      },
      "execution_count": null,
      "outputs": []
    }
  ]
}