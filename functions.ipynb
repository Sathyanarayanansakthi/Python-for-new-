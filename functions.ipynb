{
  "nbformat": 4,
  "nbformat_minor": 0,
  "metadata": {
    "colab": {
      "provenance": []
    },
    "kernelspec": {
      "name": "python3",
      "display_name": "Python 3"
    },
    "language_info": {
      "name": "python"
    }
  },
  "cells": [
    {
      "cell_type": "code",
      "source": [
        "#builtin function\n",
        "print(\"hello World\")\n",
        "len(\"hello World\")"
      ],
      "metadata": {
        "colab": {
          "base_uri": "https://localhost:8080/"
        },
        "id": "b5b-twvpZf8b",
        "outputId": "2c736d2e-fa4f-456f-befe-cb14c7ba37ee"
      },
      "execution_count": 7,
      "outputs": [
        {
          "output_type": "stream",
          "name": "stdout",
          "text": [
            "hello World\n"
          ]
        },
        {
          "output_type": "execute_result",
          "data": {
            "text/plain": [
              "11"
            ]
          },
          "metadata": {},
          "execution_count": 7
        }
      ]
    },
    {
      "cell_type": "code",
      "source": [
        "#normal functions\n",
        "def Function():\n",
        "    print(\"hi\")\n",
        "Function\n",
        "\n"
      ],
      "metadata": {
        "colab": {
          "base_uri": "https://localhost:8080/",
          "height": 103
        },
        "id": "o3FK--3YYR4e",
        "outputId": "0e9eb6e1-ee2d-4bc5-a03f-03bba26d5fca"
      },
      "execution_count": 5,
      "outputs": [
        {
          "output_type": "execute_result",
          "data": {
            "text/plain": [
              "<function __main__.Function()>"
            ],
            "text/html": [
              "<div style=\"max-width:800px; border: 1px solid var(--colab-border-color);\"><style>\n",
              "      pre.function-repr-contents {\n",
              "        overflow-x: auto;\n",
              "        padding: 8px 12px;\n",
              "        max-height: 500px;\n",
              "      }\n",
              "\n",
              "      pre.function-repr-contents.function-repr-contents-collapsed {\n",
              "        cursor: pointer;\n",
              "        max-height: 100px;\n",
              "      }\n",
              "    </style>\n",
              "    <pre style=\"white-space: initial; background:\n",
              "         var(--colab-secondary-surface-color); padding: 8px 12px;\n",
              "         border-bottom: 1px solid var(--colab-border-color);\"><b>Function</b><br/>def Function()</pre><pre class=\"function-repr-contents function-repr-contents-collapsed\" style=\"\"><a class=\"filepath\" style=\"display:none\" href=\"#\">/content/&lt;ipython-input-5-a8655437f75f&gt;</a>&lt;no docstring&gt;</pre></div>"
            ]
          },
          "metadata": {},
          "execution_count": 5
        }
      ]
    },
    {
      "cell_type": "code",
      "source": [
        "#function def. parameters\n",
        "def person(name,greeting=\"Hello\"):\n",
        "  print(f'{greeting},{name}')\n",
        "person(\"sathya\")"
      ],
      "metadata": {
        "colab": {
          "base_uri": "https://localhost:8080/"
        },
        "id": "kjVPvf8zXrYn",
        "outputId": "99befa79-7c64-496c-c5be-c11dbd6c8024"
      },
      "execution_count": 2,
      "outputs": [
        {
          "output_type": "stream",
          "name": "stdout",
          "text": [
            "Hello,sathya\n"
          ]
        }
      ]
    },
    {
      "cell_type": "code",
      "source": [
        "#function named arugments  aka named arugemnts\n",
        "def display_info(name,age,city):\n",
        "  print(\"Name:\",name)\n",
        "  print(\"Age:\",age)\n",
        "  print(\"City:\",city)\n",
        "display_info(age=25,city=\"chennai\",name=\"sathya\")"
      ],
      "metadata": {
        "colab": {
          "base_uri": "https://localhost:8080/"
        },
        "id": "tSNKU6QuYk-K",
        "outputId": "6bb77f01-ae0b-4fc1-f528-df268ccce7e5"
      },
      "execution_count": 6,
      "outputs": [
        {
          "output_type": "stream",
          "name": "stdout",
          "text": [
            "Name: sathya\n",
            "Age: 25\n",
            "City: chennai\n"
          ]
        }
      ]
    },
    {
      "cell_type": "code",
      "source": [
        "#name arugement functions\n",
        "\n",
        "def cal(length,width):\n",
        "  area=length*width\n",
        "  print(area)\n",
        "cal(10,20)"
      ],
      "metadata": {
        "colab": {
          "base_uri": "https://localhost:8080/"
        },
        "id": "H9UDFLRQYvcx",
        "outputId": "257496f6-56fa-4f62-b52c-00b7adb03a50"
      },
      "execution_count": 8,
      "outputs": [
        {
          "output_type": "stream",
          "name": "stdout",
          "text": [
            "200\n"
          ]
        }
      ]
    },
    {
      "cell_type": "code",
      "source": [
        "#nested function\n",
        "def outer():\n",
        "  print(\"outer function\")\n",
        "  def inner():\n",
        "    print(\"inner function\")\n",
        "innner()\n",
        "outer() #this is importance to see the output\n",
        "#"
      ],
      "metadata": {
        "colab": {
          "base_uri": "https://localhost:8080/"
        },
        "id": "GV6N4j6jaAzB",
        "outputId": "cb238439-8479-46a9-f159-ec465e1c6449"
      },
      "execution_count": 11,
      "outputs": [
        {
          "output_type": "stream",
          "name": "stdout",
          "text": [
            "outer function\n"
          ]
        }
      ]
    },
    {
      "cell_type": "code",
      "source": [
        "#lambda function smalll anonymous function\n"
      ],
      "metadata": {
        "id": "-LtfO7peaYyj"
      },
      "execution_count": null,
      "outputs": []
    }
  ]
}