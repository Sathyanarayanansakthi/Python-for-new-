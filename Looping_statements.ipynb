{
  "nbformat": 4,
  "nbformat_minor": 0,
  "metadata": {
    "colab": {
      "provenance": []
    },
    "kernelspec": {
      "name": "python3",
      "display_name": "Python 3"
    },
    "language_info": {
      "name": "python"
    }
  },
  "cells": [
    {
      "cell_type": "code",
      "execution_count": 21,
      "metadata": {
        "colab": {
          "base_uri": "https://localhost:8080/"
        },
        "id": "3YntDuSRTNk7",
        "outputId": "3171c67f-3d34-48f9-b85d-f0be11136482"
      },
      "outputs": [
        {
          "output_type": "stream",
          "name": "stdout",
          "text": [
            "loop\n",
            "loop\n",
            "loop\n",
            "0\n",
            "2\n",
            "3\n",
            "4\n",
            "5\n",
            "6\n",
            "7\n",
            "8\n",
            "9\n",
            "17\n",
            "20\n",
            "23\n",
            "P\n",
            "['P']\n",
            "y\n",
            "['y']\n",
            "t\n",
            "['t']\n",
            "h\n",
            "['h']\n",
            "o\n",
            "['o']\n",
            "n\n",
            "['n']\n"
          ]
        }
      ],
      "source": [
        "#for loop\n",
        "for loop in range(3):\n",
        "  print(\"loop\")\n",
        "\n",
        "for i in range(1):\n",
        "  print(i)\n",
        "\n",
        "#Range(Start and Stop)\n",
        "for y in range(2,10): #Stating and stoping postions\n",
        "  print(y)\n",
        "\n",
        "#Range (Start stop step)\n",
        "for z in range(17,24,3): #3 skips 2 values\n",
        "  print(z)\n",
        "\n",
        "word=\"Python\"\n",
        "for char in word:\n",
        "  print(char)\n",
        "  print(char.split())#like asn object"
      ]
    },
    {
      "cell_type": "code",
      "source": [
        "#while loop\n",
        "password=\"\"\n",
        "while len(password) <8:\n",
        "  password=input(\"Enter the password\");\n",
        "\n",
        "\n",
        "choice = None  # Initialize choice variable\n",
        "\n",
        "while choice != \"q\":  # Continue the loop until the user enters \"q\"\n",
        "    print(\"Option 1\")\n",
        "    print(\"Option 2\")\n",
        "    print(\"Option 3\")\n",
        "\n",
        "    choice = input(\"Enter your choice (or 'q' to quit): \")  # Get user input\n"
      ],
      "metadata": {
        "colab": {
          "base_uri": "https://localhost:8080/",
          "height": 228
        },
        "id": "8pwH2I8YUJXy",
        "outputId": "88d994cc-c664-4123-c3b7-f3ecf5365db9"
      },
      "execution_count": 31,
      "outputs": [
        {
          "name": "stdout",
          "output_type": "stream",
          "text": [
            "Enter the password12345678\n"
          ]
        },
        {
          "output_type": "error",
          "ename": "TypeError",
          "evalue": "'str' object is not callable",
          "traceback": [
            "\u001b[0;31m---------------------------------------------------------------------------\u001b[0m",
            "\u001b[0;31mTypeError\u001b[0m                                 Traceback (most recent call last)",
            "\u001b[0;32m<ipython-input-31-3f0f53578446>\u001b[0m in \u001b[0;36m<cell line: 9>\u001b[0;34m()\u001b[0m\n\u001b[1;32m      8\u001b[0m \u001b[0;34m\u001b[0m\u001b[0m\n\u001b[1;32m      9\u001b[0m \u001b[0;32mwhile\u001b[0m \u001b[0mchoice\u001b[0m \u001b[0;34m!=\u001b[0m \u001b[0;34m\"q\"\u001b[0m\u001b[0;34m:\u001b[0m  \u001b[0;31m# Continue the loop until the user enters \"q\"\u001b[0m\u001b[0;34m\u001b[0m\u001b[0;34m\u001b[0m\u001b[0m\n\u001b[0;32m---> 10\u001b[0;31m     \u001b[0mprint\u001b[0m\u001b[0;34m(\u001b[0m\u001b[0;34m\"Option 1\"\u001b[0m\u001b[0;34m)\u001b[0m\u001b[0;34m\u001b[0m\u001b[0;34m\u001b[0m\u001b[0m\n\u001b[0m\u001b[1;32m     11\u001b[0m     \u001b[0mprint\u001b[0m\u001b[0;34m(\u001b[0m\u001b[0;34m\"Option 2\"\u001b[0m\u001b[0;34m)\u001b[0m\u001b[0;34m\u001b[0m\u001b[0;34m\u001b[0m\u001b[0m\n\u001b[1;32m     12\u001b[0m     \u001b[0mprint\u001b[0m\u001b[0;34m(\u001b[0m\u001b[0;34m\"Option 3\"\u001b[0m\u001b[0;34m)\u001b[0m\u001b[0;34m\u001b[0m\u001b[0;34m\u001b[0m\u001b[0m\n",
            "\u001b[0;31mTypeError\u001b[0m: 'str' object is not callable"
          ]
        }
      ]
    },
    {
      "cell_type": "code",
      "source": [],
      "metadata": {
        "id": "cPFEplRxZ1Jx"
      },
      "execution_count": null,
      "outputs": []
    }
  ]
}