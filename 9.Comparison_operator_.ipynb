{
  "nbformat": 4,
  "nbformat_minor": 0,
  "metadata": {
    "colab": {
      "provenance": []
    },
    "kernelspec": {
      "name": "python3",
      "display_name": "Python 3"
    },
    "language_info": {
      "name": "python"
    }
  },
  "cells": [
    {
      "cell_type": "code",
      "execution_count": 6,
      "metadata": {
        "colab": {
          "base_uri": "https://localhost:8080/"
        },
        "id": "3Kd1WUAmDcWg",
        "outputId": "6f611f3a-8457-4f92-ab98-b18b50cac9b8"
      },
      "outputs": [
        {
          "output_type": "stream",
          "name": "stdout",
          "text": [
            "True\n",
            "False\n"
          ]
        }
      ],
      "source": [
        "#used to compare to values or expression these return values true or false\n",
        "\n",
        "#equal symbol ==\n",
        "a=2\n",
        "b=2\n",
        "result = (a == b)\n",
        "print(result)#true\n",
        "\n",
        "c =1\n",
        "d=0\n",
        "print( c==d)#false"
      ]
    },
    {
      "cell_type": "code",
      "source": [
        "#inequality  symbol !=\n",
        "a=2\n",
        "b=23\n",
        "print(a!=b)  #true\n",
        "\n",
        "\n",
        "c=3\n",
        "d=3\n",
        "print(c!=d)#false"
      ],
      "metadata": {
        "colab": {
          "base_uri": "https://localhost:8080/"
        },
        "id": "2bPY6JSxEtQW",
        "outputId": "cb2b4cc0-8a76-48c0-9c8c-781d7db32f4d"
      },
      "execution_count": 8,
      "outputs": [
        {
          "output_type": "stream",
          "name": "stdout",
          "text": [
            "True\n",
            "False\n"
          ]
        }
      ]
    },
    {
      "cell_type": "code",
      "source": [
        "#greater than >\n",
        "\n",
        "a=2\n",
        "b=40\n",
        "print(a>b) #false\n",
        "print(b>a)#true"
      ],
      "metadata": {
        "colab": {
          "base_uri": "https://localhost:8080/"
        },
        "id": "SwnVy-M1FSd5",
        "outputId": "1c0a7b43-f1ef-4a30-8649-39438863f25d"
      },
      "execution_count": 10,
      "outputs": [
        {
          "output_type": "stream",
          "name": "stdout",
          "text": [
            "False\n",
            "True\n"
          ]
        }
      ]
    },
    {
      "cell_type": "code",
      "source": [
        "#less than  symbol <\n",
        "\n",
        "a=40\n",
        "b=30\n",
        "print(a<b) #false\n",
        "print(b<a) #true"
      ],
      "metadata": {
        "colab": {
          "base_uri": "https://localhost:8080/"
        },
        "id": "FAGrDLZyFxky",
        "outputId": "28c7a856-d221-46c0-ae1a-5143263532e2"
      },
      "execution_count": 11,
      "outputs": [
        {
          "output_type": "stream",
          "name": "stdout",
          "text": [
            "False\n",
            "True\n"
          ]
        }
      ]
    }
  ]
}