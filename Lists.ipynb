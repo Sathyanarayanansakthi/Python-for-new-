{
  "nbformat": 4,
  "nbformat_minor": 0,
  "metadata": {
    "colab": {
      "provenance": []
    },
    "kernelspec": {
      "name": "python3",
      "display_name": "Python 3"
    },
    "language_info": {
      "name": "python"
    }
  },
  "cells": [
    {
      "cell_type": "markdown",
      "source": [
        "list is zero index based\n"
      ],
      "metadata": {
        "id": "BTuzBjacdomC"
      }
    },
    {
      "cell_type": "code",
      "execution_count": 24,
      "metadata": {
        "colab": {
          "base_uri": "https://localhost:8080/"
        },
        "id": "EVsEvv08b1lG",
        "outputId": "2bebb62a-3694-47be-b563-e23e459df753"
      },
      "outputs": [
        {
          "output_type": "stream",
          "name": "stdout",
          "text": [
            "[1, 2, 3, 4, 5, 6]\n",
            "6\n",
            "2\n",
            "5\n",
            "[2, 3, 4]\n",
            "[1, 2, 3, 4]\n",
            "[2, 3, 4, 5, 6]\n",
            "[1, 2, 3, 30, 5, 6]\n",
            "[1, 2, 3, 5, 6]\n"
          ]
        }
      ],
      "source": [
        "numbers=[1,2,3,4,5,6]\n",
        "print(numbers)\n",
        "print((len(numbers)))\n",
        "\n",
        "print(numbers[1]) #accessing the list\n",
        "print(numbers[-2])#accessing the list\n",
        "\n",
        "#Slicing\n",
        "my=numbers[1:4] #from 1 elements to 4 element\n",
        "print(my)\n",
        "\n",
        "my=numbers[:4]\n",
        "print(my)\n",
        "\n",
        "my=numbers[1:]\n",
        "print(my)\n",
        "\n",
        "numbers[3]=30 #updating a values by there index\n",
        "print(numbers)\n",
        "\n",
        "numbers.remove(30)\n",
        "print(numbers)"
      ]
    },
    {
      "cell_type": "code",
      "source": [
        "strings=[\"apple\",\"students\",\"laptop\",\"samsung\"]\n",
        "print(strings)\n",
        "print(len(strings))\n",
        "\n",
        "print(strings[3]) #accessing the list\n",
        "print(strings[-2])#accessing the list\n",
        "\n",
        "#Slicing\n",
        "words=strings[1:4] #from 1 elements to 4 element\n",
        "print(words)\n",
        "\n",
        "words=strings[:2]\n",
        "print(words)\n",
        "\n",
        "strings[2]=\"Smartwatch\"\n",
        "print(strings)\n",
        "\n",
        "strings.remove(\"Smartwatch\")\n",
        "print(strings)"
      ],
      "metadata": {
        "colab": {
          "base_uri": "https://localhost:8080/"
        },
        "id": "WoufnOOjc2hf",
        "outputId": "6856e0f4-362f-4f1f-a637-610d04dfa887"
      },
      "execution_count": 25,
      "outputs": [
        {
          "output_type": "stream",
          "name": "stdout",
          "text": [
            "['apple', 'students', 'laptop', 'samsung']\n",
            "4\n",
            "samsung\n",
            "laptop\n",
            "['students', 'laptop', 'samsung']\n",
            "['apple', 'students']\n",
            "['apple', 'students', 'Smartwatch', 'samsung']\n",
            "['apple', 'students', 'samsung']\n"
          ]
        }
      ]
    },
    {
      "cell_type": "code",
      "source": [
        "mixed=[\"apple\",2,3.18,True]\n",
        "print(mixed)\n",
        "print(len(mixed))"
      ],
      "metadata": {
        "colab": {
          "base_uri": "https://localhost:8080/"
        },
        "id": "V7CdaqXLdNsv",
        "outputId": "2657dd10-6201-4ccc-c678-33dc3c77f36b"
      },
      "execution_count": null,
      "outputs": [
        {
          "output_type": "stream",
          "name": "stdout",
          "text": [
            "['apple', 2, 3.18, True]\n",
            "4\n"
          ]
        }
      ]
    }
  ]
}