{
  "nbformat": 4,
  "nbformat_minor": 0,
  "metadata": {
    "colab": {
      "provenance": []
    },
    "kernelspec": {
      "name": "python3",
      "display_name": "Python 3"
    },
    "language_info": {
      "name": "python"
    }
  },
  "cells": [
    {
      "cell_type": "code",
      "source": [
        "# if statement\n",
        "#\n",
        "x=-1\n",
        "if x>0:\n",
        "   print(\"x is positive\")\n",
        "\n",
        "y=10\n",
        "if y<11:\n",
        "  print(\"Y is 10\")\n",
        "\n",
        "\n",
        "\"\"\"< less  than\n",
        "> greather than\n",
        "\"\"\""
      ],
      "metadata": {
        "colab": {
          "base_uri": "https://localhost:8080/",
          "height": 53
        },
        "id": "grDXQYGNPzkN",
        "outputId": "5ecf9cc4-e7da-4f1a-abb3-61fc21287139"
      },
      "execution_count": 12,
      "outputs": [
        {
          "output_type": "stream",
          "name": "stdout",
          "text": [
            "Y is 10\n"
          ]
        },
        {
          "output_type": "execute_result",
          "data": {
            "text/plain": [
              "'< less  than\\n> greather than\\n'"
            ],
            "application/vnd.google.colaboratory.intrinsic+json": {
              "type": "string"
            }
          },
          "metadata": {},
          "execution_count": 12
        }
      ]
    },
    {
      "cell_type": "markdown",
      "source": [],
      "metadata": {
        "id": "JRA_NvRAOM57"
      }
    },
    {
      "cell_type": "code",
      "source": [
        "#elif statement\n",
        "x = 101\n",
        "\n",
        "if x > 10:\n",
        "    print(\"Greater than 10\")\n",
        "elif x < 10:\n",
        "    print(\"Less than 10\")\n",
        "else:\n",
        "    print(\"Equal to 10\")\n"
      ],
      "metadata": {
        "colab": {
          "base_uri": "https://localhost:8080/"
        },
        "id": "GIsnhH2nONmz",
        "outputId": "549551ab-145e-4a6e-aeff-d5679fed764f"
      },
      "execution_count": 20,
      "outputs": [
        {
          "output_type": "stream",
          "name": "stdout",
          "text": [
            "z is positive number\n"
          ]
        }
      ]
    },
    {
      "cell_type": "markdown",
      "source": [],
      "metadata": {
        "id": "G9G_VHcVQcc6"
      }
    },
    {
      "cell_type": "code",
      "source": [
        "#if else  statement\n",
        "x = 10\n",
        "\n",
        "if x > 10:\n",
        "    print(\"Greater than 10\")\n",
        "else:\n",
        "    print(\"Equal to 10\")\n"
      ],
      "metadata": {
        "colab": {
          "base_uri": "https://localhost:8080/"
        },
        "id": "0KfPcDElQdRG",
        "outputId": "2066fd94-d2ce-4c43-bd2c-eb5f99385032"
      },
      "execution_count": 24,
      "outputs": [
        {
          "output_type": "stream",
          "name": "stdout",
          "text": [
            "Equal to 10\n"
          ]
        }
      ]
    },
    {
      "cell_type": "markdown",
      "source": [],
      "metadata": {
        "id": "TEVe2gKUPF-4"
      }
    }
  ]
}