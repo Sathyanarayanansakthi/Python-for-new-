{
  "nbformat": 4,
  "nbformat_minor": 0,
  "metadata": {
    "colab": {
      "provenance": []
    },
    "kernelspec": {
      "name": "python3",
      "display_name": "Python 3"
    },
    "language_info": {
      "name": "python"
    }
  },
  "cells": [
    {
      "cell_type": "code",
      "execution_count": 8,
      "metadata": {
        "colab": {
          "base_uri": "https://localhost:8080/"
        },
        "id": "zaBSxZOS8weA",
        "outputId": "28d1a5c4-65a4-4b0d-ed69-28350b961812"
      },
      "outputs": [
        {
          "output_type": "stream",
          "name": "stdout",
          "text": [
            "(1, 2, 3, 4, 5)\n",
            "5\n",
            "(1, 2, 3, 4, 5, 3)\n",
            "<class 'tuple'>\n"
          ]
        }
      ],
      "source": [
        "#order and immtable dsa\n",
        "tuples=(1,2,3,4,5)\n",
        "print(tuples)\n",
        "print(len(tuples))\n",
        "\n",
        "new=tuples + (3,)\n",
        "print(new)\n",
        "\n",
        "print(type(tuples))"
      ]
    },
    {
      "cell_type": "code",
      "source": [
        "tuples=(\"hi\",\"hello\")\n",
        "print(tuples)\n",
        "print(len(tuples))"
      ],
      "metadata": {
        "colab": {
          "base_uri": "https://localhost:8080/"
        },
        "id": "ujMZFQ1e-8qb",
        "outputId": "db85e980-cf0a-4f3b-91d7-e246cd2ebf53"
      },
      "execution_count": 3,
      "outputs": [
        {
          "output_type": "stream",
          "name": "stdout",
          "text": [
            "('hi', 'hello')\n",
            "2\n"
          ]
        }
      ]
    }
  ]
}